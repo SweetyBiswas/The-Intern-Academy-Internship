{
 "cells": [
  {
   "cell_type": "markdown",
   "metadata": {},
   "source": [
    "## Data Science & Machine Learning TASK 1\n",
    "\n",
    "### PROBLEM STATEMENT :\n",
    "\n",
    "Sales management has gained importance to meet increasing competition and the need for improved methods of distribution to reduce cost and to increase profits. Sales Management today is the most important function in a commercial and business enterprise.\n",
    "Do ETL: Extract-Transform-Load some Amazon dataset and find sales-trend -> Monthwise, Yearwise, Yearly Monthwise. Find key metrics and factors and show the meaningful relationships between attributes. Do your own research and come up with your findings."
   ]
  },
  {
   "cell_type": "markdown",
   "metadata": {},
   "source": [
    "***Project Partners:***\n",
    "1. *Sweety Biswas*\n",
    "2. *Sayani Ghosh*\n",
    "3. *Pamela Dey*"
   ]
  },
  {
   "cell_type": "markdown",
   "metadata": {},
   "source": [
    "**Import all necessary libraries:**"
   ]
  },
  {
   "cell_type": "code",
   "execution_count": 1,
   "metadata": {},
   "outputs": [],
   "source": [
    "import numpy as np\n",
    "import pandas as pd\n",
    "import matplotlib.pyplot as plt\n",
    "%matplotlib inline\n",
    "import seaborn as sns"
   ]
  },
  {
   "cell_type": "markdown",
   "metadata": {},
   "source": [
    "**Read the dataset:**"
   ]
  },
  {
   "cell_type": "code",
   "execution_count": 2,
   "metadata": {},
   "outputs": [],
   "source": [
    "data = pd.read_csv('100 Sales Records.csv')"
   ]
  },
  {
   "cell_type": "markdown",
   "metadata": {},
   "source": [
    "**Studying the data set:**"
   ]
  },
  {
   "cell_type": "code",
   "execution_count": 3,
   "metadata": {},
   "outputs": [
    {
     "data": {
      "text/html": [
       "<div>\n",
       "<style scoped>\n",
       "    .dataframe tbody tr th:only-of-type {\n",
       "        vertical-align: middle;\n",
       "    }\n",
       "\n",
       "    .dataframe tbody tr th {\n",
       "        vertical-align: top;\n",
       "    }\n",
       "\n",
       "    .dataframe thead th {\n",
       "        text-align: right;\n",
       "    }\n",
       "</style>\n",
       "<table border=\"1\" class=\"dataframe\">\n",
       "  <thead>\n",
       "    <tr style=\"text-align: right;\">\n",
       "      <th></th>\n",
       "      <th>Region</th>\n",
       "      <th>Country</th>\n",
       "      <th>Item Type</th>\n",
       "      <th>Sales Channel</th>\n",
       "      <th>Order Priority</th>\n",
       "      <th>Order Date</th>\n",
       "      <th>Order ID</th>\n",
       "      <th>Ship Date</th>\n",
       "      <th>Units Sold</th>\n",
       "      <th>Unit Price</th>\n",
       "      <th>Unit Cost</th>\n",
       "      <th>Total Revenue</th>\n",
       "      <th>Total Cost</th>\n",
       "      <th>Total Profit</th>\n",
       "    </tr>\n",
       "  </thead>\n",
       "  <tbody>\n",
       "    <tr>\n",
       "      <th>0</th>\n",
       "      <td>Australia and Oceania</td>\n",
       "      <td>Tuvalu</td>\n",
       "      <td>Baby Food</td>\n",
       "      <td>Offline</td>\n",
       "      <td>H</td>\n",
       "      <td>5/28/2010</td>\n",
       "      <td>669165933</td>\n",
       "      <td>6/27/2010</td>\n",
       "      <td>9925</td>\n",
       "      <td>255.28</td>\n",
       "      <td>159.42</td>\n",
       "      <td>2533654.00</td>\n",
       "      <td>1582243.50</td>\n",
       "      <td>951410.50</td>\n",
       "    </tr>\n",
       "    <tr>\n",
       "      <th>1</th>\n",
       "      <td>Central America and the Caribbean</td>\n",
       "      <td>Grenada</td>\n",
       "      <td>Cereal</td>\n",
       "      <td>Online</td>\n",
       "      <td>C</td>\n",
       "      <td>8/22/2012</td>\n",
       "      <td>963881480</td>\n",
       "      <td>9/15/2012</td>\n",
       "      <td>2804</td>\n",
       "      <td>205.70</td>\n",
       "      <td>117.11</td>\n",
       "      <td>576782.80</td>\n",
       "      <td>328376.44</td>\n",
       "      <td>248406.36</td>\n",
       "    </tr>\n",
       "    <tr>\n",
       "      <th>2</th>\n",
       "      <td>Europe</td>\n",
       "      <td>Russia</td>\n",
       "      <td>Office Supplies</td>\n",
       "      <td>Offline</td>\n",
       "      <td>L</td>\n",
       "      <td>05-02-2014</td>\n",
       "      <td>341417157</td>\n",
       "      <td>05-08-2014</td>\n",
       "      <td>1779</td>\n",
       "      <td>651.21</td>\n",
       "      <td>524.96</td>\n",
       "      <td>1158502.59</td>\n",
       "      <td>933903.84</td>\n",
       "      <td>224598.75</td>\n",
       "    </tr>\n",
       "    <tr>\n",
       "      <th>3</th>\n",
       "      <td>Sub-Saharan Africa</td>\n",
       "      <td>Sao Tome and Principe</td>\n",
       "      <td>Fruits</td>\n",
       "      <td>Online</td>\n",
       "      <td>C</td>\n",
       "      <td>6/20/2014</td>\n",
       "      <td>514321792</td>\n",
       "      <td>07-05-2014</td>\n",
       "      <td>8102</td>\n",
       "      <td>9.33</td>\n",
       "      <td>6.92</td>\n",
       "      <td>75591.66</td>\n",
       "      <td>56065.84</td>\n",
       "      <td>19525.82</td>\n",
       "    </tr>\n",
       "    <tr>\n",
       "      <th>4</th>\n",
       "      <td>Sub-Saharan Africa</td>\n",
       "      <td>Rwanda</td>\n",
       "      <td>Office Supplies</td>\n",
       "      <td>Offline</td>\n",
       "      <td>L</td>\n",
       "      <td>02-01-2013</td>\n",
       "      <td>115456712</td>\n",
       "      <td>02-06-2013</td>\n",
       "      <td>5062</td>\n",
       "      <td>651.21</td>\n",
       "      <td>524.96</td>\n",
       "      <td>3296425.02</td>\n",
       "      <td>2657347.52</td>\n",
       "      <td>639077.50</td>\n",
       "    </tr>\n",
       "  </tbody>\n",
       "</table>\n",
       "</div>"
      ],
      "text/plain": [
       "                              Region                Country        Item Type  \\\n",
       "0              Australia and Oceania                 Tuvalu        Baby Food   \n",
       "1  Central America and the Caribbean                Grenada           Cereal   \n",
       "2                             Europe                 Russia  Office Supplies   \n",
       "3                 Sub-Saharan Africa  Sao Tome and Principe           Fruits   \n",
       "4                 Sub-Saharan Africa                 Rwanda  Office Supplies   \n",
       "\n",
       "  Sales Channel Order Priority  Order Date   Order ID   Ship Date  Units Sold  \\\n",
       "0       Offline              H   5/28/2010  669165933   6/27/2010        9925   \n",
       "1        Online              C   8/22/2012  963881480   9/15/2012        2804   \n",
       "2       Offline              L  05-02-2014  341417157  05-08-2014        1779   \n",
       "3        Online              C   6/20/2014  514321792  07-05-2014        8102   \n",
       "4       Offline              L  02-01-2013  115456712  02-06-2013        5062   \n",
       "\n",
       "   Unit Price  Unit Cost  Total Revenue  Total Cost  Total Profit  \n",
       "0      255.28     159.42     2533654.00  1582243.50     951410.50  \n",
       "1      205.70     117.11      576782.80   328376.44     248406.36  \n",
       "2      651.21     524.96     1158502.59   933903.84     224598.75  \n",
       "3        9.33       6.92       75591.66    56065.84      19525.82  \n",
       "4      651.21     524.96     3296425.02  2657347.52     639077.50  "
      ]
     },
     "execution_count": 3,
     "metadata": {},
     "output_type": "execute_result"
    }
   ],
   "source": [
    "data.head()"
   ]
  },
  {
   "cell_type": "code",
   "execution_count": 4,
   "metadata": {},
   "outputs": [
    {
     "data": {
      "text/html": [
       "<div>\n",
       "<style scoped>\n",
       "    .dataframe tbody tr th:only-of-type {\n",
       "        vertical-align: middle;\n",
       "    }\n",
       "\n",
       "    .dataframe tbody tr th {\n",
       "        vertical-align: top;\n",
       "    }\n",
       "\n",
       "    .dataframe thead th {\n",
       "        text-align: right;\n",
       "    }\n",
       "</style>\n",
       "<table border=\"1\" class=\"dataframe\">\n",
       "  <thead>\n",
       "    <tr style=\"text-align: right;\">\n",
       "      <th></th>\n",
       "      <th>Region</th>\n",
       "      <th>Country</th>\n",
       "      <th>Item Type</th>\n",
       "      <th>Sales Channel</th>\n",
       "      <th>Order Priority</th>\n",
       "      <th>Order Date</th>\n",
       "      <th>Order ID</th>\n",
       "      <th>Ship Date</th>\n",
       "      <th>Units Sold</th>\n",
       "      <th>Unit Price</th>\n",
       "      <th>Unit Cost</th>\n",
       "      <th>Total Revenue</th>\n",
       "      <th>Total Cost</th>\n",
       "      <th>Total Profit</th>\n",
       "    </tr>\n",
       "  </thead>\n",
       "  <tbody>\n",
       "    <tr>\n",
       "      <th>95</th>\n",
       "      <td>Sub-Saharan Africa</td>\n",
       "      <td>Mali</td>\n",
       "      <td>Clothes</td>\n",
       "      <td>Online</td>\n",
       "      <td>M</td>\n",
       "      <td>7/26/2011</td>\n",
       "      <td>512878119</td>\n",
       "      <td>09-03-2011</td>\n",
       "      <td>888</td>\n",
       "      <td>109.28</td>\n",
       "      <td>35.84</td>\n",
       "      <td>97040.64</td>\n",
       "      <td>31825.92</td>\n",
       "      <td>65214.72</td>\n",
       "    </tr>\n",
       "    <tr>\n",
       "      <th>96</th>\n",
       "      <td>Asia</td>\n",
       "      <td>Malaysia</td>\n",
       "      <td>Fruits</td>\n",
       "      <td>Offline</td>\n",
       "      <td>L</td>\n",
       "      <td>11-11-2011</td>\n",
       "      <td>810711038</td>\n",
       "      <td>12/28/2011</td>\n",
       "      <td>6267</td>\n",
       "      <td>9.33</td>\n",
       "      <td>6.92</td>\n",
       "      <td>58471.11</td>\n",
       "      <td>43367.64</td>\n",
       "      <td>15103.47</td>\n",
       "    </tr>\n",
       "    <tr>\n",
       "      <th>97</th>\n",
       "      <td>Sub-Saharan Africa</td>\n",
       "      <td>Sierra Leone</td>\n",
       "      <td>Vegetables</td>\n",
       "      <td>Offline</td>\n",
       "      <td>C</td>\n",
       "      <td>06-01-2016</td>\n",
       "      <td>728815257</td>\n",
       "      <td>6/29/2016</td>\n",
       "      <td>1485</td>\n",
       "      <td>154.06</td>\n",
       "      <td>90.93</td>\n",
       "      <td>228779.10</td>\n",
       "      <td>135031.05</td>\n",
       "      <td>93748.05</td>\n",
       "    </tr>\n",
       "    <tr>\n",
       "      <th>98</th>\n",
       "      <td>North America</td>\n",
       "      <td>Mexico</td>\n",
       "      <td>Personal Care</td>\n",
       "      <td>Offline</td>\n",
       "      <td>M</td>\n",
       "      <td>7/30/2015</td>\n",
       "      <td>559427106</td>\n",
       "      <td>08-08-2015</td>\n",
       "      <td>5767</td>\n",
       "      <td>81.73</td>\n",
       "      <td>56.67</td>\n",
       "      <td>471336.91</td>\n",
       "      <td>326815.89</td>\n",
       "      <td>144521.02</td>\n",
       "    </tr>\n",
       "    <tr>\n",
       "      <th>99</th>\n",
       "      <td>Sub-Saharan Africa</td>\n",
       "      <td>Mozambique</td>\n",
       "      <td>Household</td>\n",
       "      <td>Offline</td>\n",
       "      <td>L</td>\n",
       "      <td>02-10-2012</td>\n",
       "      <td>665095412</td>\n",
       "      <td>2/15/2012</td>\n",
       "      <td>5367</td>\n",
       "      <td>668.27</td>\n",
       "      <td>502.54</td>\n",
       "      <td>3586605.09</td>\n",
       "      <td>2697132.18</td>\n",
       "      <td>889472.91</td>\n",
       "    </tr>\n",
       "  </tbody>\n",
       "</table>\n",
       "</div>"
      ],
      "text/plain": [
       "                Region       Country      Item Type Sales Channel  \\\n",
       "95  Sub-Saharan Africa          Mali        Clothes        Online   \n",
       "96                Asia      Malaysia         Fruits       Offline   \n",
       "97  Sub-Saharan Africa  Sierra Leone     Vegetables       Offline   \n",
       "98       North America        Mexico  Personal Care       Offline   \n",
       "99  Sub-Saharan Africa    Mozambique      Household       Offline   \n",
       "\n",
       "   Order Priority  Order Date   Order ID   Ship Date  Units Sold  Unit Price  \\\n",
       "95              M   7/26/2011  512878119  09-03-2011         888      109.28   \n",
       "96              L  11-11-2011  810711038  12/28/2011        6267        9.33   \n",
       "97              C  06-01-2016  728815257   6/29/2016        1485      154.06   \n",
       "98              M   7/30/2015  559427106  08-08-2015        5767       81.73   \n",
       "99              L  02-10-2012  665095412   2/15/2012        5367      668.27   \n",
       "\n",
       "    Unit Cost  Total Revenue  Total Cost  Total Profit  \n",
       "95      35.84       97040.64    31825.92      65214.72  \n",
       "96       6.92       58471.11    43367.64      15103.47  \n",
       "97      90.93      228779.10   135031.05      93748.05  \n",
       "98      56.67      471336.91   326815.89     144521.02  \n",
       "99     502.54     3586605.09  2697132.18     889472.91  "
      ]
     },
     "execution_count": 4,
     "metadata": {},
     "output_type": "execute_result"
    }
   ],
   "source": [
    "data.tail()"
   ]
  },
  {
   "cell_type": "code",
   "execution_count": 5,
   "metadata": {},
   "outputs": [
    {
     "data": {
      "text/plain": [
       "(100, 14)"
      ]
     },
     "execution_count": 5,
     "metadata": {},
     "output_type": "execute_result"
    }
   ],
   "source": [
    "data.shape"
   ]
  },
  {
   "cell_type": "code",
   "execution_count": 6,
   "metadata": {},
   "outputs": [
    {
     "name": "stdout",
     "output_type": "stream",
     "text": [
      "<class 'pandas.core.frame.DataFrame'>\n",
      "RangeIndex: 100 entries, 0 to 99\n",
      "Data columns (total 14 columns):\n",
      " #   Column          Non-Null Count  Dtype  \n",
      "---  ------          --------------  -----  \n",
      " 0   Region          100 non-null    object \n",
      " 1   Country         100 non-null    object \n",
      " 2   Item Type       100 non-null    object \n",
      " 3   Sales Channel   100 non-null    object \n",
      " 4   Order Priority  100 non-null    object \n",
      " 5   Order Date      100 non-null    object \n",
      " 6   Order ID        100 non-null    int64  \n",
      " 7   Ship Date       100 non-null    object \n",
      " 8   Units Sold      100 non-null    int64  \n",
      " 9   Unit Price      100 non-null    float64\n",
      " 10  Unit Cost       100 non-null    float64\n",
      " 11  Total Revenue   100 non-null    float64\n",
      " 12  Total Cost      100 non-null    float64\n",
      " 13  Total Profit    100 non-null    float64\n",
      "dtypes: float64(5), int64(2), object(7)\n",
      "memory usage: 11.1+ KB\n"
     ]
    }
   ],
   "source": [
    "data.info()"
   ]
  },
  {
   "cell_type": "markdown",
   "metadata": {},
   "source": [
    "**Checking Data Type:**"
   ]
  },
  {
   "cell_type": "code",
   "execution_count": 7,
   "metadata": {},
   "outputs": [
    {
     "data": {
      "text/plain": [
       "Region             object\n",
       "Country            object\n",
       "Item Type          object\n",
       "Sales Channel      object\n",
       "Order Priority     object\n",
       "Order Date         object\n",
       "Order ID            int64\n",
       "Ship Date          object\n",
       "Units Sold          int64\n",
       "Unit Price        float64\n",
       "Unit Cost         float64\n",
       "Total Revenue     float64\n",
       "Total Cost        float64\n",
       "Total Profit      float64\n",
       "dtype: object"
      ]
     },
     "execution_count": 7,
     "metadata": {},
     "output_type": "execute_result"
    }
   ],
   "source": [
    "data.dtypes"
   ]
  },
  {
   "cell_type": "markdown",
   "metadata": {},
   "source": [
    "**Statistics:**"
   ]
  },
  {
   "cell_type": "code",
   "execution_count": 8,
   "metadata": {},
   "outputs": [
    {
     "data": {
      "text/html": [
       "<div>\n",
       "<style scoped>\n",
       "    .dataframe tbody tr th:only-of-type {\n",
       "        vertical-align: middle;\n",
       "    }\n",
       "\n",
       "    .dataframe tbody tr th {\n",
       "        vertical-align: top;\n",
       "    }\n",
       "\n",
       "    .dataframe thead th {\n",
       "        text-align: right;\n",
       "    }\n",
       "</style>\n",
       "<table border=\"1\" class=\"dataframe\">\n",
       "  <thead>\n",
       "    <tr style=\"text-align: right;\">\n",
       "      <th></th>\n",
       "      <th>Order ID</th>\n",
       "      <th>Units Sold</th>\n",
       "      <th>Unit Price</th>\n",
       "      <th>Unit Cost</th>\n",
       "      <th>Total Revenue</th>\n",
       "      <th>Total Cost</th>\n",
       "      <th>Total Profit</th>\n",
       "    </tr>\n",
       "  </thead>\n",
       "  <tbody>\n",
       "    <tr>\n",
       "      <th>count</th>\n",
       "      <td>1.000000e+02</td>\n",
       "      <td>100.000000</td>\n",
       "      <td>100.000000</td>\n",
       "      <td>100.000000</td>\n",
       "      <td>1.000000e+02</td>\n",
       "      <td>1.000000e+02</td>\n",
       "      <td>1.000000e+02</td>\n",
       "    </tr>\n",
       "    <tr>\n",
       "      <th>mean</th>\n",
       "      <td>5.550204e+08</td>\n",
       "      <td>5128.710000</td>\n",
       "      <td>276.761300</td>\n",
       "      <td>191.048000</td>\n",
       "      <td>1.373488e+06</td>\n",
       "      <td>9.318057e+05</td>\n",
       "      <td>4.416820e+05</td>\n",
       "    </tr>\n",
       "    <tr>\n",
       "      <th>std</th>\n",
       "      <td>2.606153e+08</td>\n",
       "      <td>2794.484562</td>\n",
       "      <td>235.592241</td>\n",
       "      <td>188.208181</td>\n",
       "      <td>1.460029e+06</td>\n",
       "      <td>1.083938e+06</td>\n",
       "      <td>4.385379e+05</td>\n",
       "    </tr>\n",
       "    <tr>\n",
       "      <th>min</th>\n",
       "      <td>1.146066e+08</td>\n",
       "      <td>124.000000</td>\n",
       "      <td>9.330000</td>\n",
       "      <td>6.920000</td>\n",
       "      <td>4.870260e+03</td>\n",
       "      <td>3.612240e+03</td>\n",
       "      <td>1.258020e+03</td>\n",
       "    </tr>\n",
       "    <tr>\n",
       "      <th>25%</th>\n",
       "      <td>3.389225e+08</td>\n",
       "      <td>2836.250000</td>\n",
       "      <td>81.730000</td>\n",
       "      <td>35.840000</td>\n",
       "      <td>2.687212e+05</td>\n",
       "      <td>1.688680e+05</td>\n",
       "      <td>1.214436e+05</td>\n",
       "    </tr>\n",
       "    <tr>\n",
       "      <th>50%</th>\n",
       "      <td>5.577086e+08</td>\n",
       "      <td>5382.500000</td>\n",
       "      <td>179.880000</td>\n",
       "      <td>107.275000</td>\n",
       "      <td>7.523144e+05</td>\n",
       "      <td>3.635664e+05</td>\n",
       "      <td>2.907680e+05</td>\n",
       "    </tr>\n",
       "    <tr>\n",
       "      <th>75%</th>\n",
       "      <td>7.907551e+08</td>\n",
       "      <td>7369.000000</td>\n",
       "      <td>437.200000</td>\n",
       "      <td>263.330000</td>\n",
       "      <td>2.212045e+06</td>\n",
       "      <td>1.613870e+06</td>\n",
       "      <td>6.358288e+05</td>\n",
       "    </tr>\n",
       "    <tr>\n",
       "      <th>max</th>\n",
       "      <td>9.940222e+08</td>\n",
       "      <td>9925.000000</td>\n",
       "      <td>668.270000</td>\n",
       "      <td>524.960000</td>\n",
       "      <td>5.997055e+06</td>\n",
       "      <td>4.509794e+06</td>\n",
       "      <td>1.719922e+06</td>\n",
       "    </tr>\n",
       "  </tbody>\n",
       "</table>\n",
       "</div>"
      ],
      "text/plain": [
       "           Order ID   Units Sold  Unit Price   Unit Cost  Total Revenue  \\\n",
       "count  1.000000e+02   100.000000  100.000000  100.000000   1.000000e+02   \n",
       "mean   5.550204e+08  5128.710000  276.761300  191.048000   1.373488e+06   \n",
       "std    2.606153e+08  2794.484562  235.592241  188.208181   1.460029e+06   \n",
       "min    1.146066e+08   124.000000    9.330000    6.920000   4.870260e+03   \n",
       "25%    3.389225e+08  2836.250000   81.730000   35.840000   2.687212e+05   \n",
       "50%    5.577086e+08  5382.500000  179.880000  107.275000   7.523144e+05   \n",
       "75%    7.907551e+08  7369.000000  437.200000  263.330000   2.212045e+06   \n",
       "max    9.940222e+08  9925.000000  668.270000  524.960000   5.997055e+06   \n",
       "\n",
       "         Total Cost  Total Profit  \n",
       "count  1.000000e+02  1.000000e+02  \n",
       "mean   9.318057e+05  4.416820e+05  \n",
       "std    1.083938e+06  4.385379e+05  \n",
       "min    3.612240e+03  1.258020e+03  \n",
       "25%    1.688680e+05  1.214436e+05  \n",
       "50%    3.635664e+05  2.907680e+05  \n",
       "75%    1.613870e+06  6.358288e+05  \n",
       "max    4.509794e+06  1.719922e+06  "
      ]
     },
     "execution_count": 8,
     "metadata": {},
     "output_type": "execute_result"
    }
   ],
   "source": [
    "data.describe()"
   ]
  },
  {
   "cell_type": "code",
   "execution_count": 9,
   "metadata": {},
   "outputs": [
    {
     "data": {
      "text/plain": [
       "Index(['Region', 'Country', 'Item Type', 'Sales Channel', 'Order Priority',\n",
       "       'Order Date', 'Order ID', 'Ship Date', 'Units Sold', 'Unit Price',\n",
       "       'Unit Cost', 'Total Revenue', 'Total Cost', 'Total Profit'],\n",
       "      dtype='object')"
      ]
     },
     "execution_count": 9,
     "metadata": {},
     "output_type": "execute_result"
    }
   ],
   "source": [
    "data.columns"
   ]
  },
  {
   "cell_type": "markdown",
   "metadata": {},
   "source": [
    "# Data Processing"
   ]
  },
  {
   "cell_type": "markdown",
   "metadata": {},
   "source": [
    "**Checking if there is any null value:**"
   ]
  },
  {
   "cell_type": "code",
   "execution_count": 10,
   "metadata": {},
   "outputs": [
    {
     "data": {
      "text/plain": [
       "Region            0\n",
       "Country           0\n",
       "Item Type         0\n",
       "Sales Channel     0\n",
       "Order Priority    0\n",
       "Order Date        0\n",
       "Order ID          0\n",
       "Ship Date         0\n",
       "Units Sold        0\n",
       "Unit Price        0\n",
       "Unit Cost         0\n",
       "Total Revenue     0\n",
       "Total Cost        0\n",
       "Total Profit      0\n",
       "dtype: int64"
      ]
     },
     "execution_count": 10,
     "metadata": {},
     "output_type": "execute_result"
    }
   ],
   "source": [
    "data.isnull().sum()"
   ]
  },
  {
   "cell_type": "markdown",
   "metadata": {},
   "source": [
    "* *There is no null value in our data set. So we can proceed with our further steps.*"
   ]
  },
  {
   "cell_type": "code",
   "execution_count": 11,
   "metadata": {},
   "outputs": [
    {
     "data": {
      "text/plain": [
       "0"
      ]
     },
     "execution_count": 11,
     "metadata": {},
     "output_type": "execute_result"
    }
   ],
   "source": [
    "data.duplicated().sum()"
   ]
  },
  {
   "cell_type": "markdown",
   "metadata": {},
   "source": [
    "**To convert Ship Date to yy-mm-dd format:**"
   ]
  },
  {
   "cell_type": "code",
   "execution_count": 12,
   "metadata": {},
   "outputs": [],
   "source": [
    "data['Ship Date']=pd.to_datetime(data['Ship Date'])"
   ]
  },
  {
   "cell_type": "code",
   "execution_count": 13,
   "metadata": {},
   "outputs": [
    {
     "data": {
      "text/plain": [
       "0    2010-06-27\n",
       "1    2012-09-15\n",
       "2    2014-05-08\n",
       "3    2014-07-05\n",
       "4    2013-02-06\n",
       "        ...    \n",
       "95   2011-09-03\n",
       "96   2011-12-28\n",
       "97   2016-06-29\n",
       "98   2015-08-08\n",
       "99   2012-02-15\n",
       "Name: Ship Date, Length: 100, dtype: datetime64[ns]"
      ]
     },
     "execution_count": 13,
     "metadata": {},
     "output_type": "execute_result"
    }
   ],
   "source": [
    "data['Ship Date']"
   ]
  },
  {
   "cell_type": "markdown",
   "metadata": {},
   "source": [
    "**First and last Shipping dates:**"
   ]
  },
  {
   "cell_type": "code",
   "execution_count": 14,
   "metadata": {},
   "outputs": [
    {
     "data": {
      "text/plain": [
       "Timestamp('2010-02-25 00:00:00')"
      ]
     },
     "execution_count": 14,
     "metadata": {},
     "output_type": "execute_result"
    }
   ],
   "source": [
    "data['Ship Date'].min()"
   ]
  },
  {
   "cell_type": "code",
   "execution_count": 15,
   "metadata": {},
   "outputs": [
    {
     "data": {
      "text/plain": [
       "Timestamp('2017-06-17 00:00:00')"
      ]
     },
     "execution_count": 15,
     "metadata": {},
     "output_type": "execute_result"
    }
   ],
   "source": [
    "data['Ship Date'].max()"
   ]
  },
  {
   "cell_type": "markdown",
   "metadata": {},
   "source": [
    "# Exploratory Data Analysis\n",
    "**Sales Trend**\n",
    "\n",
    "1. **Month Wise**"
   ]
  },
  {
   "cell_type": "code",
   "execution_count": 16,
   "metadata": {},
   "outputs": [
    {
     "data": {
      "text/plain": [
       "0     06\n",
       "1     09\n",
       "2     05\n",
       "3     07\n",
       "4     02\n",
       "      ..\n",
       "95    09\n",
       "96    12\n",
       "97    06\n",
       "98    08\n",
       "99    02\n",
       "Name: Month, Length: 100, dtype: object"
      ]
     },
     "execution_count": 16,
     "metadata": {},
     "output_type": "execute_result"
    }
   ],
   "source": [
    "data['Month']=data['Ship Date'].apply(lambda x: x.strftime('%m'))\n",
    "data['Month']"
   ]
  },
  {
   "cell_type": "code",
   "execution_count": 17,
   "metadata": {},
   "outputs": [],
   "source": [
    "data_trendM = data.groupby('Month').sum()['Total Revenue'].reset_index()"
   ]
  },
  {
   "cell_type": "code",
   "execution_count": 18,
   "metadata": {
    "scrolled": false
   },
   "outputs": [
    {
     "data": {
      "text/plain": [
       "Text(0.5, 0, 'Month')"
      ]
     },
     "execution_count": 18,
     "metadata": {},
     "output_type": "execute_result"
    },
    {
     "data": {
      "image/png": "[encoded data removed]",
      "text/plain": [
       "<Figure size 1080x432 with 1 Axes>"
      ]
     },
     "metadata": {
      "needs_background": "light"
     },
     "output_type": "display_data"
    }
   ],
   "source": [
    "plt.figure(figsize=(15,6))\n",
    "plt.plot(data_trendM['Month'],data_trendM['Total Revenue'],color = 'y')\n",
    "plt.xticks(rotation='vertical',size=9)\n",
    "plt.ylabel('Total Revenue')\n",
    "plt.xlabel('Month')"
   ]
  },
  {
   "cell_type": "markdown",
   "metadata": {},
   "source": [
    "**Conclusion**\n",
    "\n",
    "From the graph we see that \n",
    "* The Total Revenue collection are highest at 2nd month i.e. February and \n",
    "* Second heighest at 11th month i.e. November."
   ]
  },
  {
   "cell_type": "markdown",
   "metadata": {},
   "source": [
    "2. **Year wise**"
   ]
  },
  {
   "cell_type": "code",
   "execution_count": 19,
   "metadata": {},
   "outputs": [
    {
     "data": {
      "text/plain": [
       "0     2010\n",
       "1     2012\n",
       "2     2014\n",
       "3     2014\n",
       "4     2013\n",
       "      ... \n",
       "95    2011\n",
       "96    2011\n",
       "97    2016\n",
       "98    2015\n",
       "99    2012\n",
       "Name: Year, Length: 100, dtype: object"
      ]
     },
     "execution_count": 19,
     "metadata": {},
     "output_type": "execute_result"
    }
   ],
   "source": [
    "data['Year'] = data['Ship Date'].apply(lambda x: x.strftime('%Y'))\n",
    "data['Year']"
   ]
  },
  {
   "cell_type": "code",
   "execution_count": 20,
   "metadata": {},
   "outputs": [],
   "source": [
    "data_trendY = data.groupby('Year').sum()['Total Revenue'].reset_index()"
   ]
  },
  {
   "cell_type": "code",
   "execution_count": 21,
   "metadata": {},
   "outputs": [
    {
     "data": {
      "text/plain": [
       "Text(0.5, 0, 'Year')"
      ]
     },
     "execution_count": 21,
     "metadata": {},
     "output_type": "execute_result"
    },
    {
     "data": {
      "image/png": "[encoded data removed]",
      "text/plain": [
       "<Figure size 1080x432 with 1 Axes>"
      ]
     },
     "metadata": {
      "needs_background": "light"
     },
     "output_type": "display_data"
    }
   ],
   "source": [
    "plt.figure(figsize=(15,6))\n",
    "plt.plot(data_trendY['Year'],data_trendY['Total Revenue'],color = 'r')\n",
    "plt.xticks(rotation='vertical',size=10)\n",
    "plt.ylabel('Total Revenue')\n",
    "plt.xlabel('Year')"
   ]
  },
  {
   "cell_type": "markdown",
   "metadata": {},
   "source": [
    "**Conclusion**\n",
    "\n",
    "The Total Revenue collection was highest in 2012."
   ]
  },
  {
   "cell_type": "markdown",
   "metadata": {},
   "source": [
    "3. **Yearly Month Wise**"
   ]
  },
  {
   "cell_type": "code",
   "execution_count": 22,
   "metadata": {},
   "outputs": [
    {
     "data": {
      "text/plain": [
       "0     2010,06\n",
       "1     2012,09\n",
       "2     2014,05\n",
       "3     2014,07\n",
       "4     2013,02\n",
       "       ...   \n",
       "95    2011,09\n",
       "96    2011,12\n",
       "97    2016,06\n",
       "98    2015,08\n",
       "99    2012,02\n",
       "Name: month_year, Length: 100, dtype: object"
      ]
     },
     "execution_count": 22,
     "metadata": {},
     "output_type": "execute_result"
    }
   ],
   "source": [
    "data['month_year'] = data['Ship Date'].apply(lambda x: x.strftime('%Y,%m'))\n",
    "data['month_year']"
   ]
  },
  {
   "cell_type": "code",
   "execution_count": 23,
   "metadata": {},
   "outputs": [],
   "source": [
    "data_trendMY = data.groupby('month_year').sum()['Total Revenue'].reset_index()"
   ]
  },
  {
   "cell_type": "code",
   "execution_count": 24,
   "metadata": {},
   "outputs": [
    {
     "data": {
      "text/plain": [
       "([0,\n",
       "  1,\n",
       "  2,\n",
       "  3,\n",
       "  4,\n",
       "  5,\n",
       "  6,\n",
       "  7,\n",
       "  8,\n",
       "  9,\n",
       "  10,\n",
       "  11,\n",
       "  12,\n",
       "  13,\n",
       "  14,\n",
       "  15,\n",
       "  16,\n",
       "  17,\n",
       "  18,\n",
       "  19,\n",
       "  20,\n",
       "  21,\n",
       "  22,\n",
       "  23,\n",
       "  24,\n",
       "  25,\n",
       "  26,\n",
       "  27,\n",
       "  28,\n",
       "  29,\n",
       "  30,\n",
       "  31,\n",
       "  32,\n",
       "  33,\n",
       "  34,\n",
       "  35,\n",
       "  36,\n",
       "  37,\n",
       "  38,\n",
       "  39,\n",
       "  40,\n",
       "  41,\n",
       "  42,\n",
       "  43,\n",
       "  44,\n",
       "  45,\n",
       "  46,\n",
       "  47,\n",
       "  48,\n",
       "  49,\n",
       "  50,\n",
       "  51,\n",
       "  52,\n",
       "  53,\n",
       "  54,\n",
       "  55,\n",
       "  56,\n",
       "  57,\n",
       "  58,\n",
       "  59,\n",
       "  60,\n",
       "  61,\n",
       "  62],\n",
       " [Text(0, 0, ''),\n",
       "  Text(0, 0, ''),\n",
       "  Text(0, 0, ''),\n",
       "  Text(0, 0, ''),\n",
       "  Text(0, 0, ''),\n",
       "  Text(0, 0, ''),\n",
       "  Text(0, 0, ''),\n",
       "  Text(0, 0, ''),\n",
       "  Text(0, 0, ''),\n",
       "  Text(0, 0, ''),\n",
       "  Text(0, 0, ''),\n",
       "  Text(0, 0, ''),\n",
       "  Text(0, 0, ''),\n",
       "  Text(0, 0, ''),\n",
       "  Text(0, 0, ''),\n",
       "  Text(0, 0, ''),\n",
       "  Text(0, 0, ''),\n",
       "  Text(0, 0, ''),\n",
       "  Text(0, 0, ''),\n",
       "  Text(0, 0, ''),\n",
       "  Text(0, 0, ''),\n",
       "  Text(0, 0, ''),\n",
       "  Text(0, 0, ''),\n",
       "  Text(0, 0, ''),\n",
       "  Text(0, 0, ''),\n",
       "  Text(0, 0, ''),\n",
       "  Text(0, 0, ''),\n",
       "  Text(0, 0, ''),\n",
       "  Text(0, 0, ''),\n",
       "  Text(0, 0, ''),\n",
       "  Text(0, 0, ''),\n",
       "  Text(0, 0, ''),\n",
       "  Text(0, 0, ''),\n",
       "  Text(0, 0, ''),\n",
       "  Text(0, 0, ''),\n",
       "  Text(0, 0, ''),\n",
       "  Text(0, 0, ''),\n",
       "  Text(0, 0, ''),\n",
       "  Text(0, 0, ''),\n",
       "  Text(0, 0, ''),\n",
       "  Text(0, 0, ''),\n",
       "  Text(0, 0, ''),\n",
       "  Text(0, 0, ''),\n",
       "  Text(0, 0, ''),\n",
       "  Text(0, 0, ''),\n",
       "  Text(0, 0, ''),\n",
       "  Text(0, 0, ''),\n",
       "  Text(0, 0, ''),\n",
       "  Text(0, 0, ''),\n",
       "  Text(0, 0, ''),\n",
       "  Text(0, 0, ''),\n",
       "  Text(0, 0, ''),\n",
       "  Text(0, 0, ''),\n",
       "  Text(0, 0, ''),\n",
       "  Text(0, 0, ''),\n",
       "  Text(0, 0, ''),\n",
       "  Text(0, 0, ''),\n",
       "  Text(0, 0, ''),\n",
       "  Text(0, 0, ''),\n",
       "  Text(0, 0, ''),\n",
       "  Text(0, 0, ''),\n",
       "  Text(0, 0, ''),\n",
       "  Text(0, 0, '')])"
      ]
     },
     "execution_count": 24,
     "metadata": {},
     "output_type": "execute_result"
    },
    {
     "data": {
      "image/png": "[encoded data removed]",
      "text/plain": [
       "<Figure size 1080x432 with 1 Axes>"
      ]
     },
     "metadata": {
      "needs_background": "light"
     },
     "output_type": "display_data"
    }
   ],
   "source": [
    "plt.figure(figsize=(15,6))\n",
    "plt.plot(data_trendMY['month_year'],data_trendMY['Total Revenue'],color = 'SALMON')\n",
    "plt.xticks(rotation='vertical',size=8)\n",
    "plt.ylabel('Total Revenue')\n",
    "plt.xlabel('Month-Year')\n",
    "plt.xticks(rotation=60)"
   ]
  },
  {
   "cell_type": "markdown",
   "metadata": {},
   "source": [
    "**Conclusion**\n",
    "\n",
    "The Total Revenue collection was \n",
    "* highest on December, 2016 while \n",
    "* on August, 2013 it was second highest."
   ]
  },
  {
   "cell_type": "markdown",
   "metadata": {},
   "source": [
    "**Product wise sales**"
   ]
  },
  {
   "cell_type": "markdown",
   "metadata": {},
   "source": [
    "* **Item Type Vs Total Revenue**"
   ]
  },
  {
   "cell_type": "code",
   "execution_count": 25,
   "metadata": {},
   "outputs": [],
   "source": [
    "product_sales = pd.DataFrame(data.groupby('Item Type').sum()['Total Revenue'])"
   ]
  },
  {
   "cell_type": "code",
   "execution_count": 26,
   "metadata": {},
   "outputs": [],
   "source": [
    "product_sales = product_sales.sort_values('Total Revenue',ascending=False)"
   ]
  },
  {
   "cell_type": "code",
   "execution_count": 27,
   "metadata": {},
   "outputs": [
    {
     "data": {
      "text/html": [
       "<div>\n",
       "<style scoped>\n",
       "    .dataframe tbody tr th:only-of-type {\n",
       "        vertical-align: middle;\n",
       "    }\n",
       "\n",
       "    .dataframe tbody tr th {\n",
       "        vertical-align: top;\n",
       "    }\n",
       "\n",
       "    .dataframe thead th {\n",
       "        text-align: right;\n",
       "    }\n",
       "</style>\n",
       "<table border=\"1\" class=\"dataframe\">\n",
       "  <thead>\n",
       "    <tr style=\"text-align: right;\">\n",
       "      <th></th>\n",
       "      <th>Total Revenue</th>\n",
       "    </tr>\n",
       "    <tr>\n",
       "      <th>Item Type</th>\n",
       "      <th></th>\n",
       "    </tr>\n",
       "  </thead>\n",
       "  <tbody>\n",
       "    <tr>\n",
       "      <th>Cosmetics</th>\n",
       "      <td>36601509.60</td>\n",
       "    </tr>\n",
       "    <tr>\n",
       "      <th>Office Supplies</th>\n",
       "      <td>30585380.07</td>\n",
       "    </tr>\n",
       "    <tr>\n",
       "      <th>Household</th>\n",
       "      <td>29889712.29</td>\n",
       "    </tr>\n",
       "    <tr>\n",
       "      <th>Baby Food</th>\n",
       "      <td>10350327.60</td>\n",
       "    </tr>\n",
       "    <tr>\n",
       "      <th>Clothes</th>\n",
       "      <td>7787292.80</td>\n",
       "    </tr>\n",
       "    <tr>\n",
       "      <th>Cereal</th>\n",
       "      <td>5322898.90</td>\n",
       "    </tr>\n",
       "    <tr>\n",
       "      <th>Meat</th>\n",
       "      <td>4503675.75</td>\n",
       "    </tr>\n",
       "    <tr>\n",
       "      <th>Personal Care</th>\n",
       "      <td>3980904.84</td>\n",
       "    </tr>\n",
       "    <tr>\n",
       "      <th>Vegetables</th>\n",
       "      <td>3089057.06</td>\n",
       "    </tr>\n",
       "    <tr>\n",
       "      <th>Beverages</th>\n",
       "      <td>2690794.60</td>\n",
       "    </tr>\n",
       "    <tr>\n",
       "      <th>Snacks</th>\n",
       "      <td>2080733.46</td>\n",
       "    </tr>\n",
       "    <tr>\n",
       "      <th>Fruits</th>\n",
       "      <td>466481.34</td>\n",
       "    </tr>\n",
       "  </tbody>\n",
       "</table>\n",
       "</div>"
      ],
      "text/plain": [
       "                 Total Revenue\n",
       "Item Type                     \n",
       "Cosmetics          36601509.60\n",
       "Office Supplies    30585380.07\n",
       "Household          29889712.29\n",
       "Baby Food          10350327.60\n",
       "Clothes             7787292.80\n",
       "Cereal              5322898.90\n",
       "Meat                4503675.75\n",
       "Personal Care       3980904.84\n",
       "Vegetables          3089057.06\n",
       "Beverages           2690794.60\n",
       "Snacks              2080733.46\n",
       "Fruits               466481.34"
      ]
     },
     "execution_count": 27,
     "metadata": {},
     "output_type": "execute_result"
    }
   ],
   "source": [
    "product_sales"
   ]
  },
  {
   "cell_type": "code",
   "execution_count": 28,
   "metadata": {},
   "outputs": [
    {
     "data": {
      "text/plain": [
       "Text(0.5, 1.0, 'BAR PLOT SHOWING PRODUCT RANKING BY TOTAL REVENUE')"
      ]
     },
     "execution_count": 28,
     "metadata": {},
     "output_type": "execute_result"
    },
    {
     "data": {
      "image/png": "[encoded data removed]",
      "text/plain": [
       "<Figure size 1080x432 with 1 Axes>"
      ]
     },
     "metadata": {
      "needs_background": "light"
     },
     "output_type": "display_data"
    }
   ],
   "source": [
    "plt.figure(figsize=(15,6))\n",
    "sns.barplot(x='Item Type', y='Total Revenue',data=data)\n",
    "plt.title(\"BAR PLOT SHOWING PRODUCT RANKING BY TOTAL REVENUE\")"
   ]
  },
  {
   "cell_type": "markdown",
   "metadata": {},
   "source": [
    "* **Item Type Vs Units Sold**"
   ]
  },
  {
   "cell_type": "code",
   "execution_count": 29,
   "metadata": {},
   "outputs": [
    {
     "name": "stdout",
     "output_type": "stream",
     "text": [
      "                 Units Sold\n",
      "Item Type                  \n",
      "Baby Food             40545\n",
      "Beverages             56708\n",
      "Cereal                25877\n",
      "Clothes               71260\n",
      "Cosmetics             83718\n",
      "Fruits                49998\n",
      "Household             44727\n",
      "Meat                  10675\n",
      "Office Supplies       46967\n",
      "Personal Care         48708\n",
      "Snacks                13637\n",
      "Vegetables            20051\n"
     ]
    }
   ],
   "source": [
    "product_sell = pd.DataFrame(data.groupby('Item Type').sum()['Units Sold'])\n",
    "print(product_sell)"
   ]
  },
  {
   "cell_type": "code",
   "execution_count": 30,
   "metadata": {},
   "outputs": [
    {
     "data": {
      "text/html": [
       "<div>\n",
       "<style scoped>\n",
       "    .dataframe tbody tr th:only-of-type {\n",
       "        vertical-align: middle;\n",
       "    }\n",
       "\n",
       "    .dataframe tbody tr th {\n",
       "        vertical-align: top;\n",
       "    }\n",
       "\n",
       "    .dataframe thead th {\n",
       "        text-align: right;\n",
       "    }\n",
       "</style>\n",
       "<table border=\"1\" class=\"dataframe\">\n",
       "  <thead>\n",
       "    <tr style=\"text-align: right;\">\n",
       "      <th></th>\n",
       "      <th>Units Sold</th>\n",
       "    </tr>\n",
       "    <tr>\n",
       "      <th>Item Type</th>\n",
       "      <th></th>\n",
       "    </tr>\n",
       "  </thead>\n",
       "  <tbody>\n",
       "    <tr>\n",
       "      <th>Cosmetics</th>\n",
       "      <td>83718</td>\n",
       "    </tr>\n",
       "    <tr>\n",
       "      <th>Clothes</th>\n",
       "      <td>71260</td>\n",
       "    </tr>\n",
       "    <tr>\n",
       "      <th>Beverages</th>\n",
       "      <td>56708</td>\n",
       "    </tr>\n",
       "    <tr>\n",
       "      <th>Fruits</th>\n",
       "      <td>49998</td>\n",
       "    </tr>\n",
       "    <tr>\n",
       "      <th>Personal Care</th>\n",
       "      <td>48708</td>\n",
       "    </tr>\n",
       "    <tr>\n",
       "      <th>Office Supplies</th>\n",
       "      <td>46967</td>\n",
       "    </tr>\n",
       "    <tr>\n",
       "      <th>Household</th>\n",
       "      <td>44727</td>\n",
       "    </tr>\n",
       "    <tr>\n",
       "      <th>Baby Food</th>\n",
       "      <td>40545</td>\n",
       "    </tr>\n",
       "    <tr>\n",
       "      <th>Cereal</th>\n",
       "      <td>25877</td>\n",
       "    </tr>\n",
       "    <tr>\n",
       "      <th>Vegetables</th>\n",
       "      <td>20051</td>\n",
       "    </tr>\n",
       "    <tr>\n",
       "      <th>Snacks</th>\n",
       "      <td>13637</td>\n",
       "    </tr>\n",
       "    <tr>\n",
       "      <th>Meat</th>\n",
       "      <td>10675</td>\n",
       "    </tr>\n",
       "  </tbody>\n",
       "</table>\n",
       "</div>"
      ],
      "text/plain": [
       "                 Units Sold\n",
       "Item Type                  \n",
       "Cosmetics             83718\n",
       "Clothes               71260\n",
       "Beverages             56708\n",
       "Fruits                49998\n",
       "Personal Care         48708\n",
       "Office Supplies       46967\n",
       "Household             44727\n",
       "Baby Food             40545\n",
       "Cereal                25877\n",
       "Vegetables            20051\n",
       "Snacks                13637\n",
       "Meat                  10675"
      ]
     },
     "execution_count": 30,
     "metadata": {},
     "output_type": "execute_result"
    }
   ],
   "source": [
    "product_sell.sort_values('Units Sold' ,ascending = False)"
   ]
  },
  {
   "cell_type": "code",
   "execution_count": 31,
   "metadata": {},
   "outputs": [
    {
     "data": {
      "image/png": "[encoded data removed]",
      "text/plain": [
       "<Figure size 1440x432 with 1 Axes>"
      ]
     },
     "metadata": {
      "needs_background": "light"
     },
     "output_type": "display_data"
    }
   ],
   "source": [
    "plt.figure(figsize=(20,6))\n",
    "sns.barplot(x='Item Type', y='Units Sold',data=data,palette='brg')\n",
    "plt.title('Most selling items')\n",
    "plt.show()"
   ]
  },
  {
   "cell_type": "markdown",
   "metadata": {},
   "source": [
    "* **Item Type Vs Total Profit**"
   ]
  },
  {
   "cell_type": "code",
   "execution_count": 32,
   "metadata": {},
   "outputs": [
    {
     "data": {
      "text/html": [
       "<div>\n",
       "<style scoped>\n",
       "    .dataframe tbody tr th:only-of-type {\n",
       "        vertical-align: middle;\n",
       "    }\n",
       "\n",
       "    .dataframe tbody tr th {\n",
       "        vertical-align: top;\n",
       "    }\n",
       "\n",
       "    .dataframe thead th {\n",
       "        text-align: right;\n",
       "    }\n",
       "</style>\n",
       "<table border=\"1\" class=\"dataframe\">\n",
       "  <thead>\n",
       "    <tr style=\"text-align: right;\">\n",
       "      <th></th>\n",
       "      <th>Total Profit</th>\n",
       "    </tr>\n",
       "    <tr>\n",
       "      <th>Item Type</th>\n",
       "      <th></th>\n",
       "    </tr>\n",
       "  </thead>\n",
       "  <tbody>\n",
       "    <tr>\n",
       "      <th>Baby Food</th>\n",
       "      <td>3886643.70</td>\n",
       "    </tr>\n",
       "    <tr>\n",
       "      <th>Beverages</th>\n",
       "      <td>888047.28</td>\n",
       "    </tr>\n",
       "    <tr>\n",
       "      <th>Cereal</th>\n",
       "      <td>2292443.43</td>\n",
       "    </tr>\n",
       "    <tr>\n",
       "      <th>Clothes</th>\n",
       "      <td>5233334.40</td>\n",
       "    </tr>\n",
       "    <tr>\n",
       "      <th>Cosmetics</th>\n",
       "      <td>14556048.66</td>\n",
       "    </tr>\n",
       "    <tr>\n",
       "      <th>Fruits</th>\n",
       "      <td>120495.18</td>\n",
       "    </tr>\n",
       "    <tr>\n",
       "      <th>Household</th>\n",
       "      <td>7412605.71</td>\n",
       "    </tr>\n",
       "    <tr>\n",
       "      <th>Meat</th>\n",
       "      <td>610610.00</td>\n",
       "    </tr>\n",
       "    <tr>\n",
       "      <th>Office Supplies</th>\n",
       "      <td>5929583.75</td>\n",
       "    </tr>\n",
       "    <tr>\n",
       "      <th>Personal Care</th>\n",
       "      <td>1220622.48</td>\n",
       "    </tr>\n",
       "    <tr>\n",
       "      <th>Snacks</th>\n",
       "      <td>751944.18</td>\n",
       "    </tr>\n",
       "    <tr>\n",
       "      <th>Vegetables</th>\n",
       "      <td>1265819.63</td>\n",
       "    </tr>\n",
       "  </tbody>\n",
       "</table>\n",
       "</div>"
      ],
      "text/plain": [
       "                 Total Profit\n",
       "Item Type                    \n",
       "Baby Food          3886643.70\n",
       "Beverages           888047.28\n",
       "Cereal             2292443.43\n",
       "Clothes            5233334.40\n",
       "Cosmetics         14556048.66\n",
       "Fruits              120495.18\n",
       "Household          7412605.71\n",
       "Meat                610610.00\n",
       "Office Supplies    5929583.75\n",
       "Personal Care      1220622.48\n",
       "Snacks              751944.18\n",
       "Vegetables         1265819.63"
      ]
     },
     "execution_count": 32,
     "metadata": {},
     "output_type": "execute_result"
    }
   ],
   "source": [
    "Item_profit = pd.DataFrame(data.groupby(['Item Type']).sum()['Total Profit'])\n",
    "Item_profit.sort_values(['Item Type'],ascending = True)"
   ]
  },
  {
   "cell_type": "code",
   "execution_count": 33,
   "metadata": {},
   "outputs": [
    {
     "data": {
      "text/plain": [
       "Text(0.5, 1.0, 'Items with profit')"
      ]
     },
     "execution_count": 33,
     "metadata": {},
     "output_type": "execute_result"
    },
    {
     "data": {
      "image/png": "[encoded data removed]",
      "text/plain": [
       "<Figure size 1080x432 with 1 Axes>"
      ]
     },
     "metadata": {
      "needs_background": "light"
     },
     "output_type": "display_data"
    }
   ],
   "source": [
    "plt.figure(figsize=(15,6))\n",
    "sns.barplot(x='Item Type', y='Total Profit',data=data,palette='winter', saturation=.5,ci=None)\n",
    "plt.title(\"Items with profit\")"
   ]
  },
  {
   "cell_type": "code",
   "execution_count": 34,
   "metadata": {},
   "outputs": [
    {
     "data": {
      "text/plain": [
       "array(['H', 'C', 'L', 'M'], dtype=object)"
      ]
     },
     "execution_count": 34,
     "metadata": {},
     "output_type": "execute_result"
    }
   ],
   "source": [
    "# checking the categories of order priority\n",
    "data['Order Priority'].unique()"
   ]
  },
  {
   "cell_type": "markdown",
   "metadata": {},
   "source": [
    "* **Count of order priority**"
   ]
  },
  {
   "cell_type": "code",
   "execution_count": 35,
   "metadata": {},
   "outputs": [
    {
     "name": "stderr",
     "output_type": "stream",
     "text": [
      "C:\\Users\\HP\\anaconda3\\lib\\site-packages\\seaborn\\_decorators.py:36: FutureWarning: Pass the following variable as a keyword arg: x. From version 0.12, the only valid positional argument will be `data`, and passing other arguments without an explicit keyword will result in an error or misinterpretation.\n",
      "  warnings.warn(\n"
     ]
    },
    {
     "data": {
      "text/plain": [
       "<AxesSubplot:xlabel='Order Priority', ylabel='count'>"
      ]
     },
     "execution_count": 35,
     "metadata": {},
     "output_type": "execute_result"
    },
    {
     "data": {
      "image/png": "[encoded data removed]",
      "text/plain": [
       "<Figure size 432x288 with 1 Axes>"
      ]
     },
     "metadata": {
      "needs_background": "light"
     },
     "output_type": "display_data"
    }
   ],
   "source": [
    "sns.countplot(data['Order Priority'],palette='Set1')"
   ]
  },
  {
   "cell_type": "markdown",
   "metadata": {},
   "source": [
    "* **Order Priority Vs Total Revenue**"
   ]
  },
  {
   "cell_type": "code",
   "execution_count": 36,
   "metadata": {},
   "outputs": [
    {
     "data": {
      "text/plain": [
       "Text(0.5, 1.0, 'Revenue generated by priority')"
      ]
     },
     "execution_count": 36,
     "metadata": {},
     "output_type": "execute_result"
    },
    {
     "data": {
      "image/png": "[encoded data removed]",
      "text/plain": [
       "<Figure size 432x288 with 1 Axes>"
      ]
     },
     "metadata": {
      "needs_background": "light"
     },
     "output_type": "display_data"
    }
   ],
   "source": [
    "sns.barplot(x='Order Priority', y='Total Revenue',data=data,palette='pastel',ci=None)\n",
    "plt.title('Revenue generated by priority')"
   ]
  },
  {
   "cell_type": "code",
   "execution_count": 37,
   "metadata": {},
   "outputs": [
    {
     "data": {
      "text/plain": [
       "Text(0.5, 1.0, 'items with profit')"
      ]
     },
     "execution_count": 37,
     "metadata": {},
     "output_type": "execute_result"
    },
    {
     "data": {
      "image/png": "[encoded data removed]",
      "text/plain": [
       "<Figure size 1440x432 with 1 Axes>"
      ]
     },
     "metadata": {
      "needs_background": "light"
     },
     "output_type": "display_data"
    }
   ],
   "source": [
    "plt.figure(figsize=(20,6))\n",
    "sns.barplot(x='Item Type', y='Total Profit',data=data,palette='afmhot', saturation=.5,ci=None,hue = 'Order Priority')\n",
    "plt.title('items with profit')\n"
   ]
  },
  {
   "cell_type": "code",
   "execution_count": 38,
   "metadata": {},
   "outputs": [
    {
     "data": {
      "text/plain": [
       "Text(0.5, 1.0, 'items with profit')"
      ]
     },
     "execution_count": 38,
     "metadata": {},
     "output_type": "execute_result"
    },
    {
     "data": {
      "image/png": "[encoded data removed]",
      "text/plain": [
       "<Figure size 1080x432 with 1 Axes>"
      ]
     },
     "metadata": {
      "needs_background": "light"
     },
     "output_type": "display_data"
    }
   ],
   "source": [
    "plt.figure(figsize=(15,6))\n",
    "sns.barplot(x='Item Type', y='Total Profit',data=data,palette='Reds', saturation=.5,ci=None,hue = 'Order Priority')\n",
    "plt.title('items with profit')"
   ]
  },
  {
   "cell_type": "markdown",
   "metadata": {},
   "source": [
    "* **Online Vs Offline sales**"
   ]
  },
  {
   "cell_type": "code",
   "execution_count": 39,
   "metadata": {},
   "outputs": [
    {
     "name": "stderr",
     "output_type": "stream",
     "text": [
      "C:\\Users\\HP\\anaconda3\\lib\\site-packages\\seaborn\\_decorators.py:36: FutureWarning: Pass the following variable as a keyword arg: x. From version 0.12, the only valid positional argument will be `data`, and passing other arguments without an explicit keyword will result in an error or misinterpretation.\n",
      "  warnings.warn(\n"
     ]
    },
    {
     "data": {
      "text/plain": [
       "Text(0.5, 1.0, 'Count of offline and online sales')"
      ]
     },
     "execution_count": 39,
     "metadata": {},
     "output_type": "execute_result"
    },
    {
     "data": {
      "image/png": "[encoded data removed]",
      "text/plain": [
       "<Figure size 360x144 with 1 Axes>"
      ]
     },
     "metadata": {
      "needs_background": "light"
     },
     "output_type": "display_data"
    }
   ],
   "source": [
    "plt.figure(figsize=(5,2))\n",
    "sns.countplot(data['Sales Channel'],palette='hot')\n",
    "plt.title('Count of offline and online sales')"
   ]
  },
  {
   "cell_type": "code",
   "execution_count": 40,
   "metadata": {},
   "outputs": [
    {
     "data": {
      "text/plain": [
       "<AxesSubplot:xlabel='Sales Channel', ylabel='Total Revenue'>"
      ]
     },
     "execution_count": 40,
     "metadata": {},
     "output_type": "execute_result"
    },
    {
     "data": {
      "image/png": "[encoded data removed]",
      "text/plain": [
       "<Figure size 432x288 with 1 Axes>"
      ]
     },
     "metadata": {
      "needs_background": "light"
     },
     "output_type": "display_data"
    }
   ],
   "source": [
    "sns.barplot(x='Sales Channel' ,y='Total Revenue',data = data,ci=None,palette=\"hsv\")"
   ]
  },
  {
   "cell_type": "markdown",
   "metadata": {},
   "source": [
    "* The number of online and offline orders are equal.\n",
    "* The Total Revenue of Offline sales is more than that of Online sales."
   ]
  },
  {
   "cell_type": "markdown",
   "metadata": {},
   "source": [
    "## Done By - Pamela Dey"
   ]
  },
  {
   "cell_type": "markdown",
   "metadata": {},
   "source": [
    "#### Which is the most profitable category and sub-category\n",
    "#### grouping item with profit"
   ]
  },
  {
   "cell_type": "code",
   "execution_count": 41,
   "metadata": {},
   "outputs": [
    {
     "data": {
      "text/plain": [
       "Item Type\n",
       "Baby Food           3886643.70\n",
       "Beverages            888047.28\n",
       "Cereal              2292443.43\n",
       "Clothes             5233334.40\n",
       "Cosmetics          14556048.66\n",
       "Fruits               120495.18\n",
       "Household           7412605.71\n",
       "Meat                 610610.00\n",
       "Office Supplies     5929583.75\n",
       "Personal Care       1220622.48\n",
       "Snacks               751944.18\n",
       "Vegetables          1265819.63\n",
       "Name: Total Profit, dtype: float64"
      ]
     },
     "execution_count": 41,
     "metadata": {},
     "output_type": "execute_result"
    }
   ],
   "source": [
    "data.groupby(['Item Type']).sum()['Total Profit']"
   ]
  },
  {
   "cell_type": "code",
   "execution_count": 42,
   "metadata": {},
   "outputs": [
    {
     "data": {
      "text/html": [
       "<div>\n",
       "<style scoped>\n",
       "    .dataframe tbody tr th:only-of-type {\n",
       "        vertical-align: middle;\n",
       "    }\n",
       "\n",
       "    .dataframe tbody tr th {\n",
       "        vertical-align: top;\n",
       "    }\n",
       "\n",
       "    .dataframe thead th {\n",
       "        text-align: right;\n",
       "    }\n",
       "</style>\n",
       "<table border=\"1\" class=\"dataframe\">\n",
       "  <thead>\n",
       "    <tr style=\"text-align: right;\">\n",
       "      <th></th>\n",
       "      <th>Total Profit</th>\n",
       "    </tr>\n",
       "    <tr>\n",
       "      <th>Item Type</th>\n",
       "      <th></th>\n",
       "    </tr>\n",
       "  </thead>\n",
       "  <tbody>\n",
       "    <tr>\n",
       "      <th>Baby Food</th>\n",
       "      <td>3886643.70</td>\n",
       "    </tr>\n",
       "    <tr>\n",
       "      <th>Beverages</th>\n",
       "      <td>888047.28</td>\n",
       "    </tr>\n",
       "    <tr>\n",
       "      <th>Cereal</th>\n",
       "      <td>2292443.43</td>\n",
       "    </tr>\n",
       "    <tr>\n",
       "      <th>Clothes</th>\n",
       "      <td>5233334.40</td>\n",
       "    </tr>\n",
       "    <tr>\n",
       "      <th>Cosmetics</th>\n",
       "      <td>14556048.66</td>\n",
       "    </tr>\n",
       "    <tr>\n",
       "      <th>Fruits</th>\n",
       "      <td>120495.18</td>\n",
       "    </tr>\n",
       "    <tr>\n",
       "      <th>Household</th>\n",
       "      <td>7412605.71</td>\n",
       "    </tr>\n",
       "    <tr>\n",
       "      <th>Meat</th>\n",
       "      <td>610610.00</td>\n",
       "    </tr>\n",
       "    <tr>\n",
       "      <th>Office Supplies</th>\n",
       "      <td>5929583.75</td>\n",
       "    </tr>\n",
       "    <tr>\n",
       "      <th>Personal Care</th>\n",
       "      <td>1220622.48</td>\n",
       "    </tr>\n",
       "    <tr>\n",
       "      <th>Snacks</th>\n",
       "      <td>751944.18</td>\n",
       "    </tr>\n",
       "    <tr>\n",
       "      <th>Vegetables</th>\n",
       "      <td>1265819.63</td>\n",
       "    </tr>\n",
       "  </tbody>\n",
       "</table>\n",
       "</div>"
      ],
      "text/plain": [
       "                 Total Profit\n",
       "Item Type                    \n",
       "Baby Food          3886643.70\n",
       "Beverages           888047.28\n",
       "Cereal             2292443.43\n",
       "Clothes            5233334.40\n",
       "Cosmetics         14556048.66\n",
       "Fruits              120495.18\n",
       "Household          7412605.71\n",
       "Meat                610610.00\n",
       "Office Supplies    5929583.75\n",
       "Personal Care      1220622.48\n",
       "Snacks              751944.18\n",
       "Vegetables         1265819.63"
      ]
     },
     "execution_count": 42,
     "metadata": {},
     "output_type": "execute_result"
    }
   ],
   "source": [
    "Item_profit = pd.DataFrame(data.groupby(['Item Type']).sum()['Total Profit'])\n",
    "\n",
    "Item_profit.sort_values(['Item Type'],ascending = True)"
   ]
  },
  {
   "cell_type": "code",
   "execution_count": 43,
   "metadata": {},
   "outputs": [
    {
     "data": {
      "text/plain": [
       "Text(0.5, 1.0, 'Items with profit')"
      ]
     },
     "execution_count": 43,
     "metadata": {},
     "output_type": "execute_result"
    },
    {
     "data": {
      "image/png": "[encoded data removed]",
      "text/plain": [
       "<Figure size 1080x432 with 1 Axes>"
      ]
     },
     "metadata": {
      "needs_background": "light"
     },
     "output_type": "display_data"
    }
   ],
   "source": [
    "plt.figure(figsize=(15,6))\n",
    "sns.barplot(x='Item Type',y='Total Profit',data=data,palette=\"Oranges\", saturation=.5,ci=None)\n",
    "plt.title(\"Items with profit\")"
   ]
  },
  {
   "cell_type": "code",
   "execution_count": 44,
   "metadata": {},
   "outputs": [
    {
     "data": {
      "text/plain": [
       "Text(0.5, 1.0, 'Items with profit')"
      ]
     },
     "execution_count": 44,
     "metadata": {},
     "output_type": "execute_result"
    },
    {
     "data": {
      "image/png": "[encoded data removed]",
      "text/plain": [
       "<Figure size 1080x432 with 1 Axes>"
      ]
     },
     "metadata": {
      "needs_background": "light"
     },
     "output_type": "display_data"
    }
   ],
   "source": [
    "plt.figure(figsize=(15,6))\n",
    "sns.barplot(x='Item Type',y='Total Profit',data=data,palette=\"Purples\", saturation=.5,ci=None,hue = 'Order Priority')\n",
    "plt.title(\"Items with profit\")"
   ]
  },
  {
   "cell_type": "markdown",
   "metadata": {},
   "source": [
    "#### checking for the number categoriesin order priority"
   ]
  },
  {
   "cell_type": "code",
   "execution_count": 45,
   "metadata": {},
   "outputs": [
    {
     "data": {
      "text/plain": [
       "array(['H', 'C', 'L', 'M'], dtype=object)"
      ]
     },
     "execution_count": 45,
     "metadata": {},
     "output_type": "execute_result"
    }
   ],
   "source": [
    "data['Order Priority'].unique()"
   ]
  },
  {
   "cell_type": "markdown",
   "metadata": {},
   "source": [
    "#### plot showing counts of features in order priority"
   ]
  },
  {
   "cell_type": "code",
   "execution_count": 46,
   "metadata": {},
   "outputs": [
    {
     "name": "stderr",
     "output_type": "stream",
     "text": [
      "C:\\Users\\HP\\anaconda3\\lib\\site-packages\\seaborn\\_decorators.py:36: FutureWarning: Pass the following variable as a keyword arg: x. From version 0.12, the only valid positional argument will be `data`, and passing other arguments without an explicit keyword will result in an error or misinterpretation.\n",
      "  warnings.warn(\n"
     ]
    },
    {
     "data": {
      "text/plain": [
       "<AxesSubplot:xlabel='Order Priority', ylabel='count'>"
      ]
     },
     "execution_count": 46,
     "metadata": {},
     "output_type": "execute_result"
    },
    {
     "data": {
      "image/png": "[encoded data removed]",
      "text/plain": [
       "<Figure size 432x288 with 1 Axes>"
      ]
     },
     "metadata": {
      "needs_background": "light"
     },
     "output_type": "display_data"
    }
   ],
   "source": [
    "sns.countplot(data['Order Priority'],palette='copper')"
   ]
  },
  {
   "cell_type": "markdown",
   "metadata": {},
   "source": [
    "#### graph showing priority by total revenue"
   ]
  },
  {
   "cell_type": "code",
   "execution_count": 47,
   "metadata": {},
   "outputs": [
    {
     "data": {
      "text/plain": [
       "Text(0.5, 1.0, 'Revenue generated by priority')"
      ]
     },
     "execution_count": 47,
     "metadata": {},
     "output_type": "execute_result"
    },
    {
     "data": {
      "image/png": "[encoded data removed]",
      "text/plain": [
       "<Figure size 432x288 with 1 Axes>"
      ]
     },
     "metadata": {
      "needs_background": "light"
     },
     "output_type": "display_data"
    }
   ],
   "source": [
    "sns.barplot(x='Order Priority',y='Total Revenue',data = data,palette = 'hsv',ci = None)\n",
    "plt.title('Revenue generated by priority')"
   ]
  },
  {
   "cell_type": "markdown",
   "metadata": {},
   "source": [
    "#### pot showing items with total profit by order priority"
   ]
  },
  {
   "cell_type": "code",
   "execution_count": 48,
   "metadata": {},
   "outputs": [
    {
     "data": {
      "text/plain": [
       "Text(0.5, 1.0, 'Items with profit')"
      ]
     },
     "execution_count": 48,
     "metadata": {},
     "output_type": "execute_result"
    },
    {
     "data": {
      "image/png": "[encoded data removed]",
      "text/plain": [
       "<Figure size 1080x432 with 1 Axes>"
      ]
     },
     "metadata": {
      "needs_background": "light"
     },
     "output_type": "display_data"
    }
   ],
   "source": [
    "plt.figure(figsize=(15,6))\n",
    "sns.barplot(x='Item Type',y='Total Profit',data=data,palette='PuOr', saturation=.5,ci=None,hue = 'Order Priority')\n",
    "plt.title(\"Items with profit\")"
   ]
  },
  {
   "cell_type": "markdown",
   "metadata": {},
   "source": [
    "## Done By - Sweety Biswas"
   ]
  },
  {
   "cell_type": "code",
   "execution_count": null,
   "metadata": {},
   "outputs": [],
   "source": []
  },
  {
   "cell_type": "code",
   "execution_count": null,
   "metadata": {},
   "outputs": [],
   "source": []
  },
  {
   "cell_type": "code",
   "execution_count": null,
   "metadata": {},
   "outputs": [],
   "source": []
  }
 ],
 "metadata": {
  "kernelspec": {
   "display_name": "Python 3",
   "language": "python",
   "name": "python3"
  },
  "language_info": {
   "codemirror_mode": {
    "name": "ipython",
    "version": 3
   },
   "file_extension": ".py",
   "mimetype": "text/x-python",
   "name": "python",
   "nbconvert_exporter": "python",
   "pygments_lexer": "ipython3",
   "version": "3.8.8"
  }
 },
 "nbformat": 4,
 "nbformat_minor": 2
}
